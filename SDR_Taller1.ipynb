{
 "cells": [
  {
   "cell_type": "code",
   "execution_count": 11,
   "id": "7990db18",
   "metadata": {},
   "outputs": [
    {
     "data": {
      "text/plain": [
       "'C:\\\\Users\\\\alexa\\\\Taller1-SistemasDeRecomendacion'"
      ]
     },
     "execution_count": 11,
     "metadata": {},
     "output_type": "execute_result"
    }
   ],
   "source": [
    "import os\n",
    "os.path.abspath(\"\")"
   ]
  },
  {
   "cell_type": "code",
   "execution_count": 42,
   "id": "364b79c0",
   "metadata": {},
   "outputs": [],
   "source": [
    "import os\n",
    "import numpy as np\n",
    "import pandas as pd\n",
    "from surprise import Reader\n",
    "from surprise import Dataset\n",
    "from surprise.model_selection import train_test_split\n",
    "from surprise import KNNBasic\n",
    "from surprise import accuracy\n",
    "import random \n",
    "\n",
    "#Para garantizar reproducibilidad en resultados\n",
    "seed = 10\n",
    "random.seed(seed)\n",
    "np.random.seed(seed)"
   ]
  },
  {
   "cell_type": "code",
   "execution_count": 43,
   "id": "808e6c7a",
   "metadata": {},
   "outputs": [],
   "source": [
    "useridprofile = pd.read_csv('userid-profile.tsv', sep='\\t')"
   ]
  },
  {
   "cell_type": "code",
   "execution_count": 44,
   "id": "18624d61",
   "metadata": {},
   "outputs": [],
   "source": [
    "file2 = pd.read_csv('userid-timestamp-artid-artname-traid-traname.tsv',sep='\\t', nrows= 1000000, header=None,names=[\n",
    "    \"userid\",\n",
    "    \"timestamp\",  \n",
    "    \"musicbrainz-artist-id\", \n",
    "    \"artist-name\",\n",
    "    \"artist-name musicbrainz-track-id\", \n",
    "    \"track-name\",\n",
    "]) "
   ]
  },
  {
   "cell_type": "code",
   "execution_count": 45,
   "id": "db05fd5a",
   "metadata": {},
   "outputs": [
    {
     "data": {
      "text/plain": [
       "pandas.core.frame.DataFrame"
      ]
     },
     "execution_count": 45,
     "metadata": {},
     "output_type": "execute_result"
    }
   ],
   "source": [
    "type(useridprofile)"
   ]
  },
  {
   "cell_type": "code",
   "execution_count": 46,
   "id": "cd06caac",
   "metadata": {},
   "outputs": [
    {
     "data": {
      "text/html": [
       "<div>\n",
       "<style scoped>\n",
       "    .dataframe tbody tr th:only-of-type {\n",
       "        vertical-align: middle;\n",
       "    }\n",
       "\n",
       "    .dataframe tbody tr th {\n",
       "        vertical-align: top;\n",
       "    }\n",
       "\n",
       "    .dataframe thead th {\n",
       "        text-align: right;\n",
       "    }\n",
       "</style>\n",
       "<table border=\"1\" class=\"dataframe\">\n",
       "  <thead>\n",
       "    <tr style=\"text-align: right;\">\n",
       "      <th></th>\n",
       "      <th>#id</th>\n",
       "      <th>gender</th>\n",
       "      <th>age</th>\n",
       "      <th>country</th>\n",
       "      <th>registered</th>\n",
       "    </tr>\n",
       "  </thead>\n",
       "  <tbody>\n",
       "    <tr>\n",
       "      <th>0</th>\n",
       "      <td>user_000001</td>\n",
       "      <td>m</td>\n",
       "      <td>NaN</td>\n",
       "      <td>Japan</td>\n",
       "      <td>Aug 13, 2006</td>\n",
       "    </tr>\n",
       "    <tr>\n",
       "      <th>1</th>\n",
       "      <td>user_000002</td>\n",
       "      <td>f</td>\n",
       "      <td>NaN</td>\n",
       "      <td>Peru</td>\n",
       "      <td>Feb 24, 2006</td>\n",
       "    </tr>\n",
       "    <tr>\n",
       "      <th>2</th>\n",
       "      <td>user_000003</td>\n",
       "      <td>m</td>\n",
       "      <td>22.0</td>\n",
       "      <td>United States</td>\n",
       "      <td>Oct 30, 2005</td>\n",
       "    </tr>\n",
       "    <tr>\n",
       "      <th>3</th>\n",
       "      <td>user_000004</td>\n",
       "      <td>f</td>\n",
       "      <td>NaN</td>\n",
       "      <td>NaN</td>\n",
       "      <td>Apr 26, 2006</td>\n",
       "    </tr>\n",
       "    <tr>\n",
       "      <th>4</th>\n",
       "      <td>user_000005</td>\n",
       "      <td>m</td>\n",
       "      <td>NaN</td>\n",
       "      <td>Bulgaria</td>\n",
       "      <td>Jun 29, 2006</td>\n",
       "    </tr>\n",
       "  </tbody>\n",
       "</table>\n",
       "</div>"
      ],
      "text/plain": [
       "           #id gender   age        country    registered\n",
       "0  user_000001      m   NaN          Japan  Aug 13, 2006\n",
       "1  user_000002      f   NaN           Peru  Feb 24, 2006\n",
       "2  user_000003      m  22.0  United States  Oct 30, 2005\n",
       "3  user_000004      f   NaN            NaN  Apr 26, 2006\n",
       "4  user_000005      m   NaN       Bulgaria  Jun 29, 2006"
      ]
     },
     "execution_count": 46,
     "metadata": {},
     "output_type": "execute_result"
    }
   ],
   "source": [
    "useridprofile.head()"
   ]
  },
  {
   "cell_type": "code",
   "execution_count": 47,
   "id": "aecc8e6a",
   "metadata": {},
   "outputs": [
    {
     "data": {
      "text/html": [
       "<div>\n",
       "<style scoped>\n",
       "    .dataframe tbody tr th:only-of-type {\n",
       "        vertical-align: middle;\n",
       "    }\n",
       "\n",
       "    .dataframe tbody tr th {\n",
       "        vertical-align: top;\n",
       "    }\n",
       "\n",
       "    .dataframe thead th {\n",
       "        text-align: right;\n",
       "    }\n",
       "</style>\n",
       "<table border=\"1\" class=\"dataframe\">\n",
       "  <thead>\n",
       "    <tr style=\"text-align: right;\">\n",
       "      <th></th>\n",
       "      <th>userid</th>\n",
       "      <th>timestamp</th>\n",
       "      <th>musicbrainz-artist-id</th>\n",
       "      <th>artist-name</th>\n",
       "      <th>artist-name musicbrainz-track-id</th>\n",
       "      <th>track-name</th>\n",
       "    </tr>\n",
       "  </thead>\n",
       "  <tbody>\n",
       "    <tr>\n",
       "      <th>0</th>\n",
       "      <td>user_000001</td>\n",
       "      <td>2009-05-04T23:08:57Z</td>\n",
       "      <td>f1b1cf71-bd35-4e99-8624-24a6e15f133a</td>\n",
       "      <td>Deep Dish</td>\n",
       "      <td>NaN</td>\n",
       "      <td>Fuck Me Im Famous (Pacha Ibiza)-09-28-2007</td>\n",
       "    </tr>\n",
       "    <tr>\n",
       "      <th>1</th>\n",
       "      <td>user_000001</td>\n",
       "      <td>2009-05-04T13:54:10Z</td>\n",
       "      <td>a7f7df4a-77d8-4f12-8acd-5c60c93f4de8</td>\n",
       "      <td>坂本龍一</td>\n",
       "      <td>NaN</td>\n",
       "      <td>Composition 0919 (Live_2009_4_15)</td>\n",
       "    </tr>\n",
       "    <tr>\n",
       "      <th>2</th>\n",
       "      <td>user_000001</td>\n",
       "      <td>2009-05-04T13:52:04Z</td>\n",
       "      <td>a7f7df4a-77d8-4f12-8acd-5c60c93f4de8</td>\n",
       "      <td>坂本龍一</td>\n",
       "      <td>NaN</td>\n",
       "      <td>Mc2 (Live_2009_4_15)</td>\n",
       "    </tr>\n",
       "    <tr>\n",
       "      <th>3</th>\n",
       "      <td>user_000001</td>\n",
       "      <td>2009-05-04T13:42:52Z</td>\n",
       "      <td>a7f7df4a-77d8-4f12-8acd-5c60c93f4de8</td>\n",
       "      <td>坂本龍一</td>\n",
       "      <td>NaN</td>\n",
       "      <td>Hibari (Live_2009_4_15)</td>\n",
       "    </tr>\n",
       "    <tr>\n",
       "      <th>4</th>\n",
       "      <td>user_000001</td>\n",
       "      <td>2009-05-04T13:42:11Z</td>\n",
       "      <td>a7f7df4a-77d8-4f12-8acd-5c60c93f4de8</td>\n",
       "      <td>坂本龍一</td>\n",
       "      <td>NaN</td>\n",
       "      <td>Mc1 (Live_2009_4_15)</td>\n",
       "    </tr>\n",
       "    <tr>\n",
       "      <th>...</th>\n",
       "      <td>...</td>\n",
       "      <td>...</td>\n",
       "      <td>...</td>\n",
       "      <td>...</td>\n",
       "      <td>...</td>\n",
       "      <td>...</td>\n",
       "    </tr>\n",
       "    <tr>\n",
       "      <th>95</th>\n",
       "      <td>user_000001</td>\n",
       "      <td>2009-05-01T08:58:19Z</td>\n",
       "      <td>NaN</td>\n",
       "      <td>Ivan Enot</td>\n",
       "      <td>NaN</td>\n",
       "      <td>Grooves Of The Heart</td>\n",
       "    </tr>\n",
       "    <tr>\n",
       "      <th>96</th>\n",
       "      <td>user_000001</td>\n",
       "      <td>2009-05-01T08:52:36Z</td>\n",
       "      <td>1e68e986-e1f7-42ef-be43-086c858db02e</td>\n",
       "      <td>J. Boogie'S Dubtronic Science</td>\n",
       "      <td>66eb69ab-a5e3-4d17-92a6-754c898e4c86</td>\n",
       "      <td>Leave It All Behind (Feat. The Rebirth &amp; Aima ...</td>\n",
       "    </tr>\n",
       "    <tr>\n",
       "      <th>97</th>\n",
       "      <td>user_000001</td>\n",
       "      <td>2009-05-01T08:45:19Z</td>\n",
       "      <td>c2fc3098-b9a5-41ab-b897-e6d67b097dfa</td>\n",
       "      <td>Home &amp; Garden</td>\n",
       "      <td>820c1ffc-5a54-4d68-9603-765b83531578</td>\n",
       "      <td>Someday (Feat. Lisa Shaw)</td>\n",
       "    </tr>\n",
       "    <tr>\n",
       "      <th>98</th>\n",
       "      <td>user_000001</td>\n",
       "      <td>2009-05-01T08:41:49Z</td>\n",
       "      <td>278db520-adb6-4d27-a770-7539fa2e33b7</td>\n",
       "      <td>Kissey Asplund</td>\n",
       "      <td>NaN</td>\n",
       "      <td>Move Me [Feat. Soliloquy]</td>\n",
       "    </tr>\n",
       "    <tr>\n",
       "      <th>99</th>\n",
       "      <td>user_000001</td>\n",
       "      <td>2009-05-01T08:37:58Z</td>\n",
       "      <td>c6971fd2-7a18-4a31-87aa-45e6ccb48ce1</td>\n",
       "      <td>Pc Synergy</td>\n",
       "      <td>NaN</td>\n",
       "      <td>Ready 2 Wear</td>\n",
       "    </tr>\n",
       "  </tbody>\n",
       "</table>\n",
       "<p>100 rows × 6 columns</p>\n",
       "</div>"
      ],
      "text/plain": [
       "         userid             timestamp                 musicbrainz-artist-id  \\\n",
       "0   user_000001  2009-05-04T23:08:57Z  f1b1cf71-bd35-4e99-8624-24a6e15f133a   \n",
       "1   user_000001  2009-05-04T13:54:10Z  a7f7df4a-77d8-4f12-8acd-5c60c93f4de8   \n",
       "2   user_000001  2009-05-04T13:52:04Z  a7f7df4a-77d8-4f12-8acd-5c60c93f4de8   \n",
       "3   user_000001  2009-05-04T13:42:52Z  a7f7df4a-77d8-4f12-8acd-5c60c93f4de8   \n",
       "4   user_000001  2009-05-04T13:42:11Z  a7f7df4a-77d8-4f12-8acd-5c60c93f4de8   \n",
       "..          ...                   ...                                   ...   \n",
       "95  user_000001  2009-05-01T08:58:19Z                                   NaN   \n",
       "96  user_000001  2009-05-01T08:52:36Z  1e68e986-e1f7-42ef-be43-086c858db02e   \n",
       "97  user_000001  2009-05-01T08:45:19Z  c2fc3098-b9a5-41ab-b897-e6d67b097dfa   \n",
       "98  user_000001  2009-05-01T08:41:49Z  278db520-adb6-4d27-a770-7539fa2e33b7   \n",
       "99  user_000001  2009-05-01T08:37:58Z  c6971fd2-7a18-4a31-87aa-45e6ccb48ce1   \n",
       "\n",
       "                      artist-name      artist-name musicbrainz-track-id  \\\n",
       "0                       Deep Dish                                   NaN   \n",
       "1                            坂本龍一                                   NaN   \n",
       "2                            坂本龍一                                   NaN   \n",
       "3                            坂本龍一                                   NaN   \n",
       "4                            坂本龍一                                   NaN   \n",
       "..                            ...                                   ...   \n",
       "95                      Ivan Enot                                   NaN   \n",
       "96  J. Boogie'S Dubtronic Science  66eb69ab-a5e3-4d17-92a6-754c898e4c86   \n",
       "97                  Home & Garden  820c1ffc-5a54-4d68-9603-765b83531578   \n",
       "98                 Kissey Asplund                                   NaN   \n",
       "99                     Pc Synergy                                   NaN   \n",
       "\n",
       "                                           track-name  \n",
       "0          Fuck Me Im Famous (Pacha Ibiza)-09-28-2007  \n",
       "1                   Composition 0919 (Live_2009_4_15)  \n",
       "2                                Mc2 (Live_2009_4_15)  \n",
       "3                             Hibari (Live_2009_4_15)  \n",
       "4                                Mc1 (Live_2009_4_15)  \n",
       "..                                                ...  \n",
       "95                               Grooves Of The Heart  \n",
       "96  Leave It All Behind (Feat. The Rebirth & Aima ...  \n",
       "97                          Someday (Feat. Lisa Shaw)  \n",
       "98                          Move Me [Feat. Soliloquy]  \n",
       "99                                       Ready 2 Wear  \n",
       "\n",
       "[100 rows x 6 columns]"
      ]
     },
     "execution_count": 47,
     "metadata": {},
     "output_type": "execute_result"
    }
   ],
   "source": [
    "file2.head(100)"
   ]
  },
  {
   "cell_type": "code",
   "execution_count": 48,
   "id": "35809b68",
   "metadata": {},
   "outputs": [],
   "source": [
    "matriz = file2[[\"userid\",\"track-name\"]]"
   ]
  },
  {
   "cell_type": "code",
   "execution_count": 49,
   "id": "ce59268e",
   "metadata": {},
   "outputs": [
    {
     "data": {
      "text/plain": [
       "Index(['userid', 'track-name'], dtype='object')"
      ]
     },
     "execution_count": 49,
     "metadata": {},
     "output_type": "execute_result"
    }
   ],
   "source": [
    "matriz.columns"
   ]
  },
  {
   "cell_type": "code",
   "execution_count": 50,
   "id": "4ea2a1bd",
   "metadata": {},
   "outputs": [
    {
     "data": {
      "text/plain": [
       "(1000000, 2)"
      ]
     },
     "execution_count": 50,
     "metadata": {},
     "output_type": "execute_result"
    }
   ],
   "source": [
    "matriz.shape"
   ]
  },
  {
   "cell_type": "code",
   "execution_count": 51,
   "id": "f5cc44ed",
   "metadata": {},
   "outputs": [
    {
     "data": {
      "text/html": [
       "<div>\n",
       "<style scoped>\n",
       "    .dataframe tbody tr th:only-of-type {\n",
       "        vertical-align: middle;\n",
       "    }\n",
       "\n",
       "    .dataframe tbody tr th {\n",
       "        vertical-align: top;\n",
       "    }\n",
       "\n",
       "    .dataframe thead th {\n",
       "        text-align: right;\n",
       "    }\n",
       "</style>\n",
       "<table border=\"1\" class=\"dataframe\">\n",
       "  <thead>\n",
       "    <tr style=\"text-align: right;\">\n",
       "      <th></th>\n",
       "      <th>count</th>\n",
       "    </tr>\n",
       "    <tr>\n",
       "      <th>userid</th>\n",
       "      <th></th>\n",
       "    </tr>\n",
       "  </thead>\n",
       "  <tbody>\n",
       "    <tr>\n",
       "      <th>user_000033</th>\n",
       "      <td>96436</td>\n",
       "    </tr>\n",
       "    <tr>\n",
       "      <th>user_000012</th>\n",
       "      <td>75876</td>\n",
       "    </tr>\n",
       "    <tr>\n",
       "      <th>user_000021</th>\n",
       "      <td>70446</td>\n",
       "    </tr>\n",
       "    <tr>\n",
       "      <th>user_000002</th>\n",
       "      <td>57438</td>\n",
       "    </tr>\n",
       "    <tr>\n",
       "      <th>user_000022</th>\n",
       "      <td>51474</td>\n",
       "    </tr>\n",
       "    <tr>\n",
       "      <th>user_000026</th>\n",
       "      <td>45308</td>\n",
       "    </tr>\n",
       "    <tr>\n",
       "      <th>user_000023</th>\n",
       "      <td>42010</td>\n",
       "    </tr>\n",
       "    <tr>\n",
       "      <th>user_000029</th>\n",
       "      <td>41830</td>\n",
       "    </tr>\n",
       "    <tr>\n",
       "      <th>user_000025</th>\n",
       "      <td>39082</td>\n",
       "    </tr>\n",
       "    <tr>\n",
       "      <th>user_000008</th>\n",
       "      <td>37235</td>\n",
       "    </tr>\n",
       "    <tr>\n",
       "      <th>user_000031</th>\n",
       "      <td>36315</td>\n",
       "    </tr>\n",
       "    <tr>\n",
       "      <th>user_000006</th>\n",
       "      <td>29021</td>\n",
       "    </tr>\n",
       "    <tr>\n",
       "      <th>user_000019</th>\n",
       "      <td>27526</td>\n",
       "    </tr>\n",
       "    <tr>\n",
       "      <th>user_000016</th>\n",
       "      <td>22172</td>\n",
       "    </tr>\n",
       "    <tr>\n",
       "      <th>user_000005</th>\n",
       "      <td>20341</td>\n",
       "    </tr>\n",
       "    <tr>\n",
       "      <th>user_000017</th>\n",
       "      <td>19646</td>\n",
       "    </tr>\n",
       "    <tr>\n",
       "      <th>user_000003</th>\n",
       "      <td>19494</td>\n",
       "    </tr>\n",
       "    <tr>\n",
       "      <th>user_000034</th>\n",
       "      <td>19418</td>\n",
       "    </tr>\n",
       "    <tr>\n",
       "      <th>user_000024</th>\n",
       "      <td>19196</td>\n",
       "    </tr>\n",
       "    <tr>\n",
       "      <th>user_000040</th>\n",
       "      <td>18973</td>\n",
       "    </tr>\n",
       "    <tr>\n",
       "      <th>user_000004</th>\n",
       "      <td>18411</td>\n",
       "    </tr>\n",
       "    <tr>\n",
       "      <th>user_000011</th>\n",
       "      <td>17171</td>\n",
       "    </tr>\n",
       "    <tr>\n",
       "      <th>user_000030</th>\n",
       "      <td>17150</td>\n",
       "    </tr>\n",
       "    <tr>\n",
       "      <th>user_000001</th>\n",
       "      <td>16685</td>\n",
       "    </tr>\n",
       "    <tr>\n",
       "      <th>user_000038</th>\n",
       "      <td>14373</td>\n",
       "    </tr>\n",
       "    <tr>\n",
       "      <th>user_000032</th>\n",
       "      <td>14076</td>\n",
       "    </tr>\n",
       "    <tr>\n",
       "      <th>user_000039</th>\n",
       "      <td>13999</td>\n",
       "    </tr>\n",
       "    <tr>\n",
       "      <th>user_000015</th>\n",
       "      <td>13743</td>\n",
       "    </tr>\n",
       "    <tr>\n",
       "      <th>user_000028</th>\n",
       "      <td>13284</td>\n",
       "    </tr>\n",
       "    <tr>\n",
       "      <th>user_000018</th>\n",
       "      <td>11714</td>\n",
       "    </tr>\n",
       "    <tr>\n",
       "      <th>user_000035</th>\n",
       "      <td>9458</td>\n",
       "    </tr>\n",
       "    <tr>\n",
       "      <th>user_000013</th>\n",
       "      <td>8896</td>\n",
       "    </tr>\n",
       "    <tr>\n",
       "      <th>user_000041</th>\n",
       "      <td>8281</td>\n",
       "    </tr>\n",
       "    <tr>\n",
       "      <th>user_000010</th>\n",
       "      <td>6574</td>\n",
       "    </tr>\n",
       "    <tr>\n",
       "      <th>user_000037</th>\n",
       "      <td>6230</td>\n",
       "    </tr>\n",
       "    <tr>\n",
       "      <th>user_000009</th>\n",
       "      <td>5233</td>\n",
       "    </tr>\n",
       "    <tr>\n",
       "      <th>user_000020</th>\n",
       "      <td>4668</td>\n",
       "    </tr>\n",
       "    <tr>\n",
       "      <th>user_000036</th>\n",
       "      <td>4242</td>\n",
       "    </tr>\n",
       "    <tr>\n",
       "      <th>user_000027</th>\n",
       "      <td>3767</td>\n",
       "    </tr>\n",
       "    <tr>\n",
       "      <th>user_000007</th>\n",
       "      <td>2454</td>\n",
       "    </tr>\n",
       "    <tr>\n",
       "      <th>user_000014</th>\n",
       "      <td>354</td>\n",
       "    </tr>\n",
       "  </tbody>\n",
       "</table>\n",
       "</div>"
      ],
      "text/plain": [
       "             count\n",
       "userid            \n",
       "user_000033  96436\n",
       "user_000012  75876\n",
       "user_000021  70446\n",
       "user_000002  57438\n",
       "user_000022  51474\n",
       "user_000026  45308\n",
       "user_000023  42010\n",
       "user_000029  41830\n",
       "user_000025  39082\n",
       "user_000008  37235\n",
       "user_000031  36315\n",
       "user_000006  29021\n",
       "user_000019  27526\n",
       "user_000016  22172\n",
       "user_000005  20341\n",
       "user_000017  19646\n",
       "user_000003  19494\n",
       "user_000034  19418\n",
       "user_000024  19196\n",
       "user_000040  18973\n",
       "user_000004  18411\n",
       "user_000011  17171\n",
       "user_000030  17150\n",
       "user_000001  16685\n",
       "user_000038  14373\n",
       "user_000032  14076\n",
       "user_000039  13999\n",
       "user_000015  13743\n",
       "user_000028  13284\n",
       "user_000018  11714\n",
       "user_000035   9458\n",
       "user_000013   8896\n",
       "user_000041   8281\n",
       "user_000010   6574\n",
       "user_000037   6230\n",
       "user_000009   5233\n",
       "user_000020   4668\n",
       "user_000036   4242\n",
       "user_000027   3767\n",
       "user_000007   2454\n",
       "user_000014    354"
      ]
     },
     "execution_count": 51,
     "metadata": {},
     "output_type": "execute_result"
    }
   ],
   "source": [
    "matriz.groupby(['userid'])['userid'].agg({'count'}).sort_values(by='count',ascending=False)"
   ]
  },
  {
   "cell_type": "code",
   "execution_count": 52,
   "id": "58eda813",
   "metadata": {},
   "outputs": [],
   "source": [
    "df_count = matriz.groupby(['userid','track-name'], as_index=True)['track-name'].agg({'count'}).sort_values(by='count',ascending=False)"
   ]
  },
  {
   "cell_type": "code",
   "execution_count": 53,
   "id": "05c3923b",
   "metadata": {
    "scrolled": true
   },
   "outputs": [
    {
     "data": {
      "text/html": [
       "<div>\n",
       "<style scoped>\n",
       "    .dataframe tbody tr th:only-of-type {\n",
       "        vertical-align: middle;\n",
       "    }\n",
       "\n",
       "    .dataframe tbody tr th {\n",
       "        vertical-align: top;\n",
       "    }\n",
       "\n",
       "    .dataframe thead th {\n",
       "        text-align: right;\n",
       "    }\n",
       "</style>\n",
       "<table border=\"1\" class=\"dataframe\">\n",
       "  <thead>\n",
       "    <tr style=\"text-align: right;\">\n",
       "      <th></th>\n",
       "      <th></th>\n",
       "      <th>count</th>\n",
       "    </tr>\n",
       "    <tr>\n",
       "      <th>userid</th>\n",
       "      <th>track-name</th>\n",
       "      <th></th>\n",
       "    </tr>\n",
       "  </thead>\n",
       "  <tbody>\n",
       "    <tr>\n",
       "      <th rowspan=\"5\" valign=\"top\">user_000008</th>\n",
       "      <th>Heartless</th>\n",
       "      <td>2119</td>\n",
       "    </tr>\n",
       "    <tr>\n",
       "      <th>See You In My Nightmares</th>\n",
       "      <td>2069</td>\n",
       "    </tr>\n",
       "    <tr>\n",
       "      <th>Say You Will</th>\n",
       "      <td>2065</td>\n",
       "    </tr>\n",
       "    <tr>\n",
       "      <th>Love Lockdown</th>\n",
       "      <td>2059</td>\n",
       "    </tr>\n",
       "    <tr>\n",
       "      <th>Welcome To Heartbreak (Feat. Kid Cudi)</th>\n",
       "      <td>2059</td>\n",
       "    </tr>\n",
       "  </tbody>\n",
       "</table>\n",
       "</div>"
      ],
      "text/plain": [
       "                                                    count\n",
       "userid      track-name                                   \n",
       "user_000008 Heartless                                2119\n",
       "            See You In My Nightmares                 2069\n",
       "            Say You Will                             2065\n",
       "            Love Lockdown                            2059\n",
       "            Welcome To Heartbreak (Feat. Kid Cudi)   2059"
      ]
     },
     "execution_count": 53,
     "metadata": {},
     "output_type": "execute_result"
    }
   ],
   "source": [
    "df_count.head()"
   ]
  },
  {
   "cell_type": "code",
   "execution_count": 54,
   "id": "61969422",
   "metadata": {},
   "outputs": [
    {
     "data": {
      "text/plain": [
       "pandas.core.frame.DataFrame"
      ]
     },
     "execution_count": 54,
     "metadata": {},
     "output_type": "execute_result"
    }
   ],
   "source": [
    "type(df_count)"
   ]
  },
  {
   "cell_type": "code",
   "execution_count": 55,
   "id": "04daa113",
   "metadata": {},
   "outputs": [
    {
     "data": {
      "text/plain": [
       "Index(['count'], dtype='object')"
      ]
     },
     "execution_count": 55,
     "metadata": {},
     "output_type": "execute_result"
    }
   ],
   "source": [
    "df_count.columns"
   ]
  },
  {
   "cell_type": "markdown",
   "id": "a3b3faf4",
   "metadata": {},
   "source": [
    "## Construcción de modelos colaborativos usuario-usuario"
   ]
  },
  {
   "cell_type": "code",
   "execution_count": 56,
   "id": "af3e18f4",
   "metadata": {},
   "outputs": [],
   "source": [
    "df2 = matriz.groupby(['userid','track-name'],as_index=False)['track-name'].agg({'count'}).reset_index()"
   ]
  },
  {
   "cell_type": "code",
   "execution_count": 57,
   "id": "15d34bf0",
   "metadata": {},
   "outputs": [],
   "source": [
    "df2[['userid', 'track-name']] = df2[['userid', 'track-name']].astype(str)"
   ]
  },
  {
   "cell_type": "code",
   "execution_count": 58,
   "id": "04e86c57",
   "metadata": {},
   "outputs": [
    {
     "data": {
      "text/plain": [
       "userid        object\n",
       "track-name    object\n",
       "count          int64\n",
       "dtype: object"
      ]
     },
     "execution_count": 58,
     "metadata": {},
     "output_type": "execute_result"
    }
   ],
   "source": [
    "df2.dtypes"
   ]
  },
  {
   "cell_type": "code",
   "execution_count": 59,
   "id": "b418a68f",
   "metadata": {},
   "outputs": [
    {
     "data": {
      "text/plain": [
       "(6902, 3)"
      ]
     },
     "execution_count": 59,
     "metadata": {},
     "output_type": "execute_result"
    }
   ],
   "source": [
    "df2[df2['userid'] == 'user_000033'].shape"
   ]
  },
  {
   "cell_type": "code",
   "execution_count": 60,
   "id": "c6ddae5a",
   "metadata": {},
   "outputs": [
    {
     "data": {
      "text/html": [
       "<div>\n",
       "<style scoped>\n",
       "    .dataframe tbody tr th:only-of-type {\n",
       "        vertical-align: middle;\n",
       "    }\n",
       "\n",
       "    .dataframe tbody tr th {\n",
       "        vertical-align: top;\n",
       "    }\n",
       "\n",
       "    .dataframe thead th {\n",
       "        text-align: right;\n",
       "    }\n",
       "</style>\n",
       "<table border=\"1\" class=\"dataframe\">\n",
       "  <thead>\n",
       "    <tr style=\"text-align: right;\">\n",
       "      <th></th>\n",
       "      <th>userid</th>\n",
       "      <th>track-name</th>\n",
       "      <th>count</th>\n",
       "    </tr>\n",
       "  </thead>\n",
       "  <tbody>\n",
       "    <tr>\n",
       "      <th>175581</th>\n",
       "      <td>user_000033</td>\n",
       "      <td>Ryoujoku No Ame</td>\n",
       "      <td>880</td>\n",
       "    </tr>\n",
       "    <tr>\n",
       "      <th>171505</th>\n",
       "      <td>user_000033</td>\n",
       "      <td>Ain'T Afraid To Die</td>\n",
       "      <td>855</td>\n",
       "    </tr>\n",
       "    <tr>\n",
       "      <th>173723</th>\n",
       "      <td>user_000033</td>\n",
       "      <td>Itoshii Hito</td>\n",
       "      <td>753</td>\n",
       "    </tr>\n",
       "    <tr>\n",
       "      <th>176008</th>\n",
       "      <td>user_000033</td>\n",
       "      <td>Somnus Memoria</td>\n",
       "      <td>730</td>\n",
       "    </tr>\n",
       "    <tr>\n",
       "      <th>173931</th>\n",
       "      <td>user_000033</td>\n",
       "      <td>Kekkonshiki No Uta ~Kisetsu Hazure No Wedding ...</td>\n",
       "      <td>630</td>\n",
       "    </tr>\n",
       "    <tr>\n",
       "      <th>...</th>\n",
       "      <td>...</td>\n",
       "      <td>...</td>\n",
       "      <td>...</td>\n",
       "    </tr>\n",
       "    <tr>\n",
       "      <th>175986</th>\n",
       "      <td>user_000033</td>\n",
       "      <td>So Sad So Bad</td>\n",
       "      <td>1</td>\n",
       "    </tr>\n",
       "    <tr>\n",
       "      <th>175987</th>\n",
       "      <td>user_000033</td>\n",
       "      <td>So...</td>\n",
       "      <td>1</td>\n",
       "    </tr>\n",
       "    <tr>\n",
       "      <th>173134</th>\n",
       "      <td>user_000033</td>\n",
       "      <td>Gozen 0 Toki Ni Torauma Radio - Shiwase Na Hibi</td>\n",
       "      <td>1</td>\n",
       "    </tr>\n",
       "    <tr>\n",
       "      <th>173133</th>\n",
       "      <td>user_000033</td>\n",
       "      <td>Gozen 0 Ji No Abangyarudo</td>\n",
       "      <td>1</td>\n",
       "    </tr>\n",
       "    <tr>\n",
       "      <th>178082</th>\n",
       "      <td>user_000033</td>\n",
       "      <td>｢H×M×-Crash-Trap@｣ －B Type－</td>\n",
       "      <td>1</td>\n",
       "    </tr>\n",
       "  </tbody>\n",
       "</table>\n",
       "<p>6902 rows × 3 columns</p>\n",
       "</div>"
      ],
      "text/plain": [
       "             userid                                         track-name  count\n",
       "175581  user_000033                                    Ryoujoku No Ame    880\n",
       "171505  user_000033                                Ain'T Afraid To Die    855\n",
       "173723  user_000033                                       Itoshii Hito    753\n",
       "176008  user_000033                                     Somnus Memoria    730\n",
       "173931  user_000033  Kekkonshiki No Uta ~Kisetsu Hazure No Wedding ...    630\n",
       "...             ...                                                ...    ...\n",
       "175986  user_000033                                      So Sad So Bad      1\n",
       "175987  user_000033                                              So...      1\n",
       "173134  user_000033    Gozen 0 Toki Ni Torauma Radio - Shiwase Na Hibi      1\n",
       "173133  user_000033                          Gozen 0 Ji No Abangyarudo      1\n",
       "178082  user_000033                        ｢H×M×-Crash-Trap@｣ －B Type－      1\n",
       "\n",
       "[6902 rows x 3 columns]"
      ]
     },
     "execution_count": 60,
     "metadata": {},
     "output_type": "execute_result"
    }
   ],
   "source": [
    "df2[df2['userid'] == 'user_000033'].sort_values(by='count',ascending=False)"
   ]
  },
  {
   "cell_type": "code",
   "execution_count": 61,
   "id": "2406b7c6",
   "metadata": {},
   "outputs": [
    {
     "data": {
      "text/html": [
       "<div>\n",
       "<style scoped>\n",
       "    .dataframe tbody tr th:only-of-type {\n",
       "        vertical-align: middle;\n",
       "    }\n",
       "\n",
       "    .dataframe tbody tr th {\n",
       "        vertical-align: top;\n",
       "    }\n",
       "\n",
       "    .dataframe thead th {\n",
       "        text-align: right;\n",
       "    }\n",
       "</style>\n",
       "<table border=\"1\" class=\"dataframe\">\n",
       "  <thead>\n",
       "    <tr style=\"text-align: right;\">\n",
       "      <th></th>\n",
       "      <th>userid</th>\n",
       "      <th>track-name</th>\n",
       "      <th>count</th>\n",
       "    </tr>\n",
       "  </thead>\n",
       "  <tbody>\n",
       "    <tr>\n",
       "      <th>0</th>\n",
       "      <td>user_000001</td>\n",
       "      <td>Ｔouch - A Mountain Of One Peyote Remix</td>\n",
       "      <td>70</td>\n",
       "    </tr>\n",
       "    <tr>\n",
       "      <th>1</th>\n",
       "      <td>user_000002</td>\n",
       "      <td>…</td>\n",
       "      <td>139</td>\n",
       "    </tr>\n",
       "    <tr>\n",
       "      <th>2</th>\n",
       "      <td>user_000003</td>\n",
       "      <td>[Untitled]</td>\n",
       "      <td>47</td>\n",
       "    </tr>\n",
       "    <tr>\n",
       "      <th>3</th>\n",
       "      <td>user_000004</td>\n",
       "      <td>黒い涙 -Tv Live Edition-</td>\n",
       "      <td>308</td>\n",
       "    </tr>\n",
       "    <tr>\n",
       "      <th>4</th>\n",
       "      <td>user_000005</td>\n",
       "      <td>Що Ли Те Чакам Още</td>\n",
       "      <td>355</td>\n",
       "    </tr>\n",
       "    <tr>\n",
       "      <th>5</th>\n",
       "      <td>user_000006</td>\n",
       "      <td>Яппи - Гоу Хоум!</td>\n",
       "      <td>107</td>\n",
       "    </tr>\n",
       "    <tr>\n",
       "      <th>6</th>\n",
       "      <td>user_000007</td>\n",
       "      <td>¢Hunk Up Da Duece</td>\n",
       "      <td>22</td>\n",
       "    </tr>\n",
       "    <tr>\n",
       "      <th>7</th>\n",
       "      <td>user_000008</td>\n",
       "      <td>Život Napsal Sám (Feat. Jay Diesel)</td>\n",
       "      <td>2119</td>\n",
       "    </tr>\n",
       "    <tr>\n",
       "      <th>8</th>\n",
       "      <td>user_000009</td>\n",
       "      <td>テイク 5</td>\n",
       "      <td>29</td>\n",
       "    </tr>\n",
       "    <tr>\n",
       "      <th>9</th>\n",
       "      <td>user_000010</td>\n",
       "      <td>_The_Dj_Was_My_Father_(Tom_Do</td>\n",
       "      <td>377</td>\n",
       "    </tr>\n",
       "  </tbody>\n",
       "</table>\n",
       "</div>"
      ],
      "text/plain": [
       "        userid                              track-name  count\n",
       "0  user_000001  Ｔouch - A Mountain Of One Peyote Remix     70\n",
       "1  user_000002                                       …    139\n",
       "2  user_000003                              [Untitled]     47\n",
       "3  user_000004                   黒い涙 -Tv Live Edition-    308\n",
       "4  user_000005                      Що Ли Те Чакам Още    355\n",
       "5  user_000006                        Яппи - Гоу Хоум!    107\n",
       "6  user_000007                       ¢Hunk Up Da Duece     22\n",
       "7  user_000008     Život Napsal Sám (Feat. Jay Diesel)   2119\n",
       "8  user_000009                                   テイク 5     29\n",
       "9  user_000010           _The_Dj_Was_My_Father_(Tom_Do    377"
      ]
     },
     "execution_count": 61,
     "metadata": {},
     "output_type": "execute_result"
    }
   ],
   "source": [
    "#We have to normalized \"count\" to make it in the form of our modele with ranking between 1 and 5\n",
    "#Count Column represent the max of listening of a user for a single track\n",
    "maxs = df2.groupby(['userid']).max().reset_index()\n",
    "maxs.head(10)"
   ]
  },
  {
   "cell_type": "markdown",
   "id": "b852cc23",
   "metadata": {},
   "source": [
    "## Rating normalized creation"
   ]
  },
  {
   "cell_type": "code",
   "execution_count": 62,
   "id": "11250b84",
   "metadata": {},
   "outputs": [
    {
     "name": "stdout",
     "output_type": "stream",
     "text": [
      "Done\n"
     ]
    }
   ],
   "source": [
    "rating_normalized = []\n",
    "\n",
    "n = len(df2['userid'])\n",
    "\n",
    "df_userid = df2['userid']\n",
    "df_count = df2['count'].tolist()\n",
    "\n",
    "for i in range(n):\n",
    "    \n",
    "    userId =  df_userid[i]\n",
    "    \n",
    "    max_user_items = maxs[maxs['userid'] == userId]['count'].iloc[0]\n",
    "    \n",
    "    #Rating normalized between 0 and 5\n",
    "    rating_normalized.append(5 * (df_count[i]) / max_user_items)\n",
    "    \n",
    "for i in range(n):\n",
    "    \n",
    "    #Rating normalized between 1 and 5\n",
    "    rating_normalized[i] = (4*rating_normalized[i] + 5)/5\n",
    "        \n",
    "df2['rating_normalized'] = rating_normalized\n",
    "print(\"Done\")"
   ]
  },
  {
   "cell_type": "code",
   "execution_count": 63,
   "id": "14fdb97b",
   "metadata": {},
   "outputs": [
    {
     "data": {
      "text/plain": [
       "userid                object\n",
       "track-name            object\n",
       "count                  int64\n",
       "rating_normalized    float64\n",
       "dtype: object"
      ]
     },
     "metadata": {},
     "output_type": "display_data"
    }
   ],
   "source": [
    "df2['rating_normalized'] = df2['rating_normalized'].astype(float)\n",
    "display(df2.dtypes)"
   ]
  },
  {
   "cell_type": "code",
   "execution_count": 64,
   "id": "0bc7cdaa",
   "metadata": {},
   "outputs": [
    {
     "data": {
      "text/html": [
       "<div>\n",
       "<style scoped>\n",
       "    .dataframe tbody tr th:only-of-type {\n",
       "        vertical-align: middle;\n",
       "    }\n",
       "\n",
       "    .dataframe tbody tr th {\n",
       "        vertical-align: top;\n",
       "    }\n",
       "\n",
       "    .dataframe thead th {\n",
       "        text-align: right;\n",
       "    }\n",
       "</style>\n",
       "<table border=\"1\" class=\"dataframe\">\n",
       "  <thead>\n",
       "    <tr style=\"text-align: right;\">\n",
       "      <th></th>\n",
       "      <th>userid</th>\n",
       "      <th>track-name</th>\n",
       "      <th>count</th>\n",
       "      <th>rating_normalized</th>\n",
       "    </tr>\n",
       "  </thead>\n",
       "  <tbody>\n",
       "    <tr>\n",
       "      <th>0</th>\n",
       "      <td>user_000001</td>\n",
       "      <td>'84 Pontiac Dream</td>\n",
       "      <td>14</td>\n",
       "      <td>1.800000</td>\n",
       "    </tr>\n",
       "    <tr>\n",
       "      <th>1</th>\n",
       "      <td>user_000001</td>\n",
       "      <td>(All I Wanted Was To Make You) Feel Good</td>\n",
       "      <td>3</td>\n",
       "      <td>1.171429</td>\n",
       "    </tr>\n",
       "    <tr>\n",
       "      <th>2</th>\n",
       "      <td>user_000001</td>\n",
       "      <td>(D)Ecaying Beauty</td>\n",
       "      <td>1</td>\n",
       "      <td>1.057143</td>\n",
       "    </tr>\n",
       "    <tr>\n",
       "      <th>3</th>\n",
       "      <td>user_000001</td>\n",
       "      <td>(Far From) Home</td>\n",
       "      <td>1</td>\n",
       "      <td>1.057143</td>\n",
       "    </tr>\n",
       "    <tr>\n",
       "      <th>4</th>\n",
       "      <td>user_000001</td>\n",
       "      <td>(Get Off Your) High Horse Lady</td>\n",
       "      <td>1</td>\n",
       "      <td>1.057143</td>\n",
       "    </tr>\n",
       "    <tr>\n",
       "      <th>...</th>\n",
       "      <td>...</td>\n",
       "      <td>...</td>\n",
       "      <td>...</td>\n",
       "      <td>...</td>\n",
       "    </tr>\n",
       "    <tr>\n",
       "      <th>95</th>\n",
       "      <td>user_000001</td>\n",
       "      <td>Air Vibes</td>\n",
       "      <td>1</td>\n",
       "      <td>1.057143</td>\n",
       "    </tr>\n",
       "    <tr>\n",
       "      <th>96</th>\n",
       "      <td>user_000001</td>\n",
       "      <td>Akropolis</td>\n",
       "      <td>7</td>\n",
       "      <td>1.400000</td>\n",
       "    </tr>\n",
       "    <tr>\n",
       "      <th>97</th>\n",
       "      <td>user_000001</td>\n",
       "      <td>Al-Falaq 113 Featuring Mino Cinelu, Gene Lake,...</td>\n",
       "      <td>1</td>\n",
       "      <td>1.057143</td>\n",
       "    </tr>\n",
       "    <tr>\n",
       "      <th>98</th>\n",
       "      <td>user_000001</td>\n",
       "      <td>Alarm Call</td>\n",
       "      <td>4</td>\n",
       "      <td>1.228571</td>\n",
       "    </tr>\n",
       "    <tr>\n",
       "      <th>99</th>\n",
       "      <td>user_000001</td>\n",
       "      <td>Alex Attias Presents Mustang ‘Let The Rhythm G...</td>\n",
       "      <td>26</td>\n",
       "      <td>2.485714</td>\n",
       "    </tr>\n",
       "  </tbody>\n",
       "</table>\n",
       "<p>100 rows × 4 columns</p>\n",
       "</div>"
      ],
      "text/plain": [
       "         userid                                         track-name  count  \\\n",
       "0   user_000001                                  '84 Pontiac Dream     14   \n",
       "1   user_000001           (All I Wanted Was To Make You) Feel Good      3   \n",
       "2   user_000001                                  (D)Ecaying Beauty      1   \n",
       "3   user_000001                                    (Far From) Home      1   \n",
       "4   user_000001                     (Get Off Your) High Horse Lady      1   \n",
       "..          ...                                                ...    ...   \n",
       "95  user_000001                                          Air Vibes      1   \n",
       "96  user_000001                                          Akropolis      7   \n",
       "97  user_000001  Al-Falaq 113 Featuring Mino Cinelu, Gene Lake,...      1   \n",
       "98  user_000001                                         Alarm Call      4   \n",
       "99  user_000001  Alex Attias Presents Mustang ‘Let The Rhythm G...     26   \n",
       "\n",
       "    rating_normalized  \n",
       "0            1.800000  \n",
       "1            1.171429  \n",
       "2            1.057143  \n",
       "3            1.057143  \n",
       "4            1.057143  \n",
       "..                ...  \n",
       "95           1.057143  \n",
       "96           1.400000  \n",
       "97           1.057143  \n",
       "98           1.228571  \n",
       "99           2.485714  \n",
       "\n",
       "[100 rows x 4 columns]"
      ]
     },
     "execution_count": 64,
     "metadata": {},
     "output_type": "execute_result"
    }
   ],
   "source": [
    "df2.head(100)"
   ]
  },
  {
   "cell_type": "code",
   "execution_count": 65,
   "id": "91de807d",
   "metadata": {},
   "outputs": [
    {
     "data": {
      "text/html": [
       "<div>\n",
       "<style scoped>\n",
       "    .dataframe tbody tr th:only-of-type {\n",
       "        vertical-align: middle;\n",
       "    }\n",
       "\n",
       "    .dataframe tbody tr th {\n",
       "        vertical-align: top;\n",
       "    }\n",
       "\n",
       "    .dataframe thead th {\n",
       "        text-align: right;\n",
       "    }\n",
       "</style>\n",
       "<table border=\"1\" class=\"dataframe\">\n",
       "  <thead>\n",
       "    <tr style=\"text-align: right;\">\n",
       "      <th></th>\n",
       "      <th>userid</th>\n",
       "      <th>track-name</th>\n",
       "      <th>count</th>\n",
       "      <th>rating_normalized</th>\n",
       "    </tr>\n",
       "  </thead>\n",
       "  <tbody>\n",
       "    <tr>\n",
       "      <th>175581</th>\n",
       "      <td>user_000033</td>\n",
       "      <td>Ryoujoku No Ame</td>\n",
       "      <td>880</td>\n",
       "      <td>5.000000</td>\n",
       "    </tr>\n",
       "    <tr>\n",
       "      <th>171505</th>\n",
       "      <td>user_000033</td>\n",
       "      <td>Ain'T Afraid To Die</td>\n",
       "      <td>855</td>\n",
       "      <td>4.886364</td>\n",
       "    </tr>\n",
       "    <tr>\n",
       "      <th>173723</th>\n",
       "      <td>user_000033</td>\n",
       "      <td>Itoshii Hito</td>\n",
       "      <td>753</td>\n",
       "      <td>4.422727</td>\n",
       "    </tr>\n",
       "    <tr>\n",
       "      <th>176008</th>\n",
       "      <td>user_000033</td>\n",
       "      <td>Somnus Memoria</td>\n",
       "      <td>730</td>\n",
       "      <td>4.318182</td>\n",
       "    </tr>\n",
       "    <tr>\n",
       "      <th>173931</th>\n",
       "      <td>user_000033</td>\n",
       "      <td>Kekkonshiki No Uta ~Kisetsu Hazure No Wedding ...</td>\n",
       "      <td>630</td>\n",
       "      <td>3.863636</td>\n",
       "    </tr>\n",
       "    <tr>\n",
       "      <th>...</th>\n",
       "      <td>...</td>\n",
       "      <td>...</td>\n",
       "      <td>...</td>\n",
       "      <td>...</td>\n",
       "    </tr>\n",
       "    <tr>\n",
       "      <th>175986</th>\n",
       "      <td>user_000033</td>\n",
       "      <td>So Sad So Bad</td>\n",
       "      <td>1</td>\n",
       "      <td>1.004545</td>\n",
       "    </tr>\n",
       "    <tr>\n",
       "      <th>175987</th>\n",
       "      <td>user_000033</td>\n",
       "      <td>So...</td>\n",
       "      <td>1</td>\n",
       "      <td>1.004545</td>\n",
       "    </tr>\n",
       "    <tr>\n",
       "      <th>173134</th>\n",
       "      <td>user_000033</td>\n",
       "      <td>Gozen 0 Toki Ni Torauma Radio - Shiwase Na Hibi</td>\n",
       "      <td>1</td>\n",
       "      <td>1.004545</td>\n",
       "    </tr>\n",
       "    <tr>\n",
       "      <th>173133</th>\n",
       "      <td>user_000033</td>\n",
       "      <td>Gozen 0 Ji No Abangyarudo</td>\n",
       "      <td>1</td>\n",
       "      <td>1.004545</td>\n",
       "    </tr>\n",
       "    <tr>\n",
       "      <th>178082</th>\n",
       "      <td>user_000033</td>\n",
       "      <td>｢H×M×-Crash-Trap@｣ －B Type－</td>\n",
       "      <td>1</td>\n",
       "      <td>1.004545</td>\n",
       "    </tr>\n",
       "  </tbody>\n",
       "</table>\n",
       "<p>6902 rows × 4 columns</p>\n",
       "</div>"
      ],
      "text/plain": [
       "             userid                                         track-name  count  \\\n",
       "175581  user_000033                                    Ryoujoku No Ame    880   \n",
       "171505  user_000033                                Ain'T Afraid To Die    855   \n",
       "173723  user_000033                                       Itoshii Hito    753   \n",
       "176008  user_000033                                     Somnus Memoria    730   \n",
       "173931  user_000033  Kekkonshiki No Uta ~Kisetsu Hazure No Wedding ...    630   \n",
       "...             ...                                                ...    ...   \n",
       "175986  user_000033                                      So Sad So Bad      1   \n",
       "175987  user_000033                                              So...      1   \n",
       "173134  user_000033    Gozen 0 Toki Ni Torauma Radio - Shiwase Na Hibi      1   \n",
       "173133  user_000033                          Gozen 0 Ji No Abangyarudo      1   \n",
       "178082  user_000033                        ｢H×M×-Crash-Trap@｣ －B Type－      1   \n",
       "\n",
       "        rating_normalized  \n",
       "175581           5.000000  \n",
       "171505           4.886364  \n",
       "173723           4.422727  \n",
       "176008           4.318182  \n",
       "173931           3.863636  \n",
       "...                   ...  \n",
       "175986           1.004545  \n",
       "175987           1.004545  \n",
       "173134           1.004545  \n",
       "173133           1.004545  \n",
       "178082           1.004545  \n",
       "\n",
       "[6902 rows x 4 columns]"
      ]
     },
     "execution_count": 65,
     "metadata": {},
     "output_type": "execute_result"
    }
   ],
   "source": [
    "df2[df2['userid'] == 'user_000033'].sort_values(by='count',ascending=False)"
   ]
  },
  {
   "cell_type": "markdown",
   "id": "94b82fa5",
   "metadata": {},
   "source": [
    "# Ahora construyamos la matriz de utilidad"
   ]
  },
  {
   "cell_type": "code",
   "execution_count": null,
   "id": "8334fdc1",
   "metadata": {},
   "outputs": [],
   "source": []
  },
  {
   "cell_type": "code",
   "execution_count": 1132,
   "id": "20e5db99",
   "metadata": {},
   "outputs": [],
   "source": [
    "#mu = Matrix de Utilidad segun el usuario i\n",
    "\n",
    "#Create of Column of index in useridprofile\n",
    "useridprofile['index'] = range(len(useridprofile))\n",
    "\n",
    "def matrix_utilidad(i):\n",
    "    '''Return the matrix of utility of the user i'''\n",
    "    \n",
    "    #Take the userId name of the user i\n",
    "    userid = useridprofile.loc[useridprofile['index'] == i, '#id'].iloc[0]\n",
    "    print(\"UserId : \" + userid)\n",
    "    \n",
    "    #Select the tracks associated with user i\n",
    "    tracks_ui = df2.loc[df2['userid'] == userid, ['userid','track-name']]\n",
    "    #onlytrack_ui.drop_duplicates(keep = 'first', inplace = True)\n",
    "    tracks_ui['index'] = range(len(tracks_ui))\n",
    "    nb_track = len(tracks_ui)\n",
    "    \n",
    "    #Select the neighbour of user i\n",
    "    neighbour_ui = df2[df2['track-name'].isin(tracks_ui['track-name'])]\n",
    "    nb_neighbour = len(neighbour_ui['userid'].drop_duplicates(keep = 'first', inplace = False))\n",
    "\n",
    "    print(\"Tenemos \" + str(nb_neighbour - 1) + \" usuarios vecinos\")\n",
    "    print(\"Tenemos \" + str(nb_track) + \" tracks\")\n",
    "\n",
    "    #Create the matrix of utility\n",
    "    mu = np.zeros((nb_neighbour, nb_track))\n",
    "    \n",
    "    user_i_row = []\n",
    "\n",
    "    for k in neighbour_ui.index:\n",
    "        \n",
    "        #Get userid and track of the k-row of neighbour_ui\n",
    "        useridk = neighbour_ui.loc[k, 'userid']\n",
    "        tracknamek = neighbour_ui.loc[k, 'track-name']\n",
    "        \n",
    "        #Get index of user and track associated with this userid and track\n",
    "        num_user = useridprofile.loc[useridprofile['#id'] == useridk, 'index'].iloc[0]\n",
    "        num_track = tracks_ui.loc[tracks_ui['track-name'] == tracknamek, 'index'].iloc[0]\n",
    "        \n",
    "        #Add the value of rating normalized in the matrix of utility\n",
    "        if (num_user < i):\n",
    "            mu[num_user+1][num_track] = neighbour_ui.loc[k, 'rating_normalized']\n",
    "            \n",
    "        elif (num_user > i):\n",
    "            mu[num_user][num_track] = neighbour_ui.loc[k, 'rating_normalized']\n",
    "            \n",
    "        else : \n",
    "            user_i_row.append(neighbour_ui.loc[k, 'rating_normalized'])\n",
    "            \n",
    "    #The user i is always the first row of the matrix of utility\n",
    "    mu[0] = np.array(user_i_row)\n",
    "\n",
    "    mu2 = np.array(mu)\n",
    "    \n",
    "    return mu2\n"
   ]
  },
  {
   "cell_type": "code",
   "execution_count": 1133,
   "id": "067e5d76",
   "metadata": {},
   "outputs": [
    {
     "name": "stdout",
     "output_type": "stream",
     "text": [
      "UserId : user_000002\n",
      "Tenemos 40 usuarios vecinos\n",
      "Tenemos 8129 tracks\n"
     ]
    },
    {
     "data": {
      "text/plain": [
       "array([[1.05755396, 1.05755396, 1.05755396, ..., 1.05755396, 1.08633094,\n",
       "        1.05755396],\n",
       "       [0.        , 0.        , 0.        , ..., 0.        , 0.        ,\n",
       "        0.        ],\n",
       "       [0.        , 0.        , 0.        , ..., 0.        , 0.        ,\n",
       "        0.        ],\n",
       "       ...,\n",
       "       [0.        , 0.        , 0.        , ..., 0.        , 0.        ,\n",
       "        0.        ],\n",
       "       [0.        , 0.        , 0.        , ..., 0.        , 0.        ,\n",
       "        0.        ],\n",
       "       [0.        , 0.        , 0.        , ..., 0.        , 0.        ,\n",
       "        0.        ]])"
      ]
     },
     "execution_count": 1133,
     "metadata": {},
     "output_type": "execute_result"
    }
   ],
   "source": [
    "matrix_utilidad(1)"
   ]
  },
  {
   "cell_type": "markdown",
   "id": "b36384fd",
   "metadata": {},
   "source": [
    "## Vamos a determinar los simitudes entre el usuario x y los otros"
   ]
  },
  {
   "cell_type": "code",
   "execution_count": 1121,
   "id": "fbf0fea8",
   "metadata": {},
   "outputs": [],
   "source": [
    "def similitudes(x, mu):\n",
    "    '''Return similitudes of user X with the other users'''\n",
    "    \n",
    "    #Read the row of mu for user x to calculate his norm of rating\n",
    "    usarioX = mu[0] \n",
    "    norm_uX = np.sqrt(np.dot(usarioX, usarioX))\n",
    "\n",
    "    #Create the list of similarities between user x and the other users\n",
    "    sim = []\n",
    "\n",
    "    for i in range(1, len(mu)):\n",
    "    \n",
    "        #Calculate the similarity between user x and user i\n",
    "        scal = np.dot(usarioX, mu[i])\n",
    "        norm_ui = np.sqrt(np.dot(mu[i], mu[i]))\n",
    "        \n",
    "        sim_coseno = 0\n",
    "        if not ((norm_uX == 0) or (np.isnan(norm_uX)) or (norm_ui == 0) or (np.isnan(norm_ui))):\n",
    "            sim_coseno = scal / (norm_uX * norm_ui)\n",
    "        \n",
    "        sim.append([sim_coseno, i])\n",
    "        \n",
    "    return sim\n",
    "    "
   ]
  },
  {
   "cell_type": "markdown",
   "id": "20add9d0",
   "metadata": {},
   "source": [
    "## Vamos a hacer predicciones de relevancia con un modelo basado en distancias coseno"
   ]
  },
  {
   "cell_type": "code",
   "execution_count": 1183,
   "id": "bc72661d",
   "metadata": {},
   "outputs": [],
   "source": [
    "def prediccion(i, j, mu, sim, index_model):\n",
    "    '''Return the value of prediction predicted for user i and item j according to the matrix of utility mu of i'''\n",
    "    \n",
    "    sum1 = 0\n",
    "    \n",
    "    for k in range(len(sim)):\n",
    "        \n",
    "        #Calculate the first sum of the formula for prediction\n",
    "        #bkj = np.mean(mu[sim[k][1]]) + np.mean(np.transpose(mu)[j]) - np.mean(mu)\n",
    "        bkj = np.mean(mu[sim[k][1]])\n",
    "        sum1 += sim[k][0]*(mu[sim[k][1]][j] - bkj) \n",
    "    \n",
    "    #Calculate the sum of similarities to normalize sum1\n",
    "    sum2 = np.sum(np.array(sim[:][0]))\n",
    "    \n",
    "    #baseline estimate for Muij\n",
    "    #bij = np.mean(mu[0]) + np.mean(np.transpose(mu)[j]) - np.mean(mu)\n",
    "    bij = np.mean(mu[0]) \n",
    "    \n",
    "    #Calculate finale prediction\n",
    "    pred = bij + (sum1/sum2)\n",
    "    print(\"La predicción para el usuario \" + str(i) + \" y para el item \" + str(j) + \" es: \" + str(pred))\n",
    "    print(\"El real rating of item \" + str(j) + \" por el usuario \" + str(i) + \" is \" + str(mu[0][j]))\n",
    "\n",
    "    return pred\n",
    "\n"
   ]
  },
  {
   "cell_type": "code",
   "execution_count": null,
   "id": "a013d34e",
   "metadata": {},
   "outputs": [],
   "source": [
    "#Test prediccion\n",
    "\n",
    "mui = matrix_utilidad(1)\n",
    "sim = similitudes(1, mui)\n",
    "pred = prediccion(0, 0, mui, sim, 0)\n"
   ]
  },
  {
   "cell_type": "markdown",
   "id": "8720dbb9",
   "metadata": {},
   "source": [
    "## Vamos a medir la cualidad de esos predicciones"
   ]
  },
  {
   "cell_type": "code",
   "execution_count": 1190,
   "id": "670cbeae",
   "metadata": {},
   "outputs": [],
   "source": [
    "import time as t\n",
    "\n",
    "def funcion_costo(n, m, pred_fct, sim_fct, index_model):\n",
    "    '''Return the value of cost function for n users and m items'''\n",
    "    \n",
    "    # n = Number of users for test\n",
    "    # m = Number of items for test\n",
    "\n",
    "    start = t.time()\n",
    "\n",
    "    #Evaluamos sus distancias con el funcion costo quien es proportional a la distancia euclidian entre las prediccions y las datas\n",
    "    funcion_costo = 0\n",
    "\n",
    "    for i in range(n):\n",
    "    \n",
    "        mu = np.array([[]])\n",
    "        if(index_model == 0):\n",
    "            mu = matrix_utilidad(i)\n",
    "        else:\n",
    "            mu = matrix_utilidad2(i)\n",
    "            \n",
    "        sim = sim_fct(i, mu)\n",
    "        \n",
    "        N = min(len(mu[0]), m)\n",
    "        \n",
    "        for j in range(N):\n",
    "            \n",
    "            pred = pred_fct(i, j, mu, sim, index_model)\n",
    "            \n",
    "            #We use the mean quadratic error to calculate our cost function\n",
    "            funcion_costo += (pred - mu[0][j])**2\n",
    "\n",
    "    funcion_costo = funcion_costo / (2*n*m)\n",
    "\n",
    "    tiempo = t.time() - start\n",
    "    print(\"\\nTiempo de ejecucion : \" + str(tiempo))\n",
    "    \n",
    "    if(index_model == 0):\n",
    "         print(\"Modelo collaborativo usuario-usuario\")\n",
    "    else:\n",
    "         print(\"Modelo collaborativo item-item\")\n",
    "\n",
    "   \n",
    "    print(\"El function de costo o la cualidad de esos predicciones es de : \" + str(funcion_costo))\n",
    "    \n",
    "    return tiempo, funcion_costo"
   ]
  },
  {
   "cell_type": "code",
   "execution_count": 1191,
   "id": "bec2391c",
   "metadata": {},
   "outputs": [
    {
     "name": "stdout",
     "output_type": "stream",
     "text": [
      "UserId : user_000001\n",
      "Tenemos 40 usuarios vecinos\n",
      "Tenemos 3092 tracks\n",
      "La predicción para el usuario 0 y para el item 0 es: 2.7431625503837016\n",
      "El real rating of item 0 por el usuario 0 is 1.8\n",
      "La predicción para el usuario 0 y para el item 1 es: 1.184708729032642\n",
      "El real rating of item 1 por el usuario 0 is 1.1714285714285713\n",
      "La predicción para el usuario 0 y para el item 2 es: 0.998570115185475\n",
      "El real rating of item 2 por el usuario 0 is 1.0571428571428572\n",
      "UserId : user_000002\n",
      "Tenemos 40 usuarios vecinos\n",
      "Tenemos 8129 tracks\n",
      "La predicción para el usuario 1 y para el item 0 es: 0.6955904921182867\n",
      "El real rating of item 0 por el usuario 1 is 1.0575539568345325\n",
      "La predicción para el usuario 1 y para el item 1 es: 0.22541831789189792\n",
      "El real rating of item 1 por el usuario 1 is 1.0575539568345325\n",
      "La predicción para el usuario 1 y para el item 2 es: 0.22541831789189792\n",
      "El real rating of item 2 por el usuario 1 is 1.0575539568345325\n",
      "UserId : user_000003\n",
      "Tenemos 40 usuarios vecinos\n",
      "Tenemos 4565 tracks\n",
      "La predicción para el usuario 2 y para el item 0 es: 1.7088624322295791\n",
      "El real rating of item 0 por el usuario 2 is 1.0851063829787235\n",
      "La predicción para el usuario 2 y para el item 1 es: 0.5727652932474525\n",
      "El real rating of item 1 por el usuario 2 is 1.2553191489361701\n",
      "La predicción para el usuario 2 y para el item 2 es: 0.5727652932474525\n",
      "El real rating of item 2 por el usuario 2 is 1.0851063829787235\n",
      "\n",
      "Tiempo de ejecucion : 43.54212236404419\n",
      "Modelo collaborativo usuario-usuario\n",
      "El function de costo o la cualidad de esos predicciones es de : 0.19591802695770014\n"
     ]
    }
   ],
   "source": [
    "#Test value of cost function for cosine similitude\n",
    "tiempo1, funcion_costo1 = funcion_costo(3, 3, prediccion, similitudes, 0)"
   ]
  },
  {
   "cell_type": "code",
   "execution_count": 1137,
   "id": "1c4d25ea",
   "metadata": {},
   "outputs": [],
   "source": [
    "#Test to compare the best item recommended for user 0 and the real rating of this item\n",
    "def compareBestItem(i, pred):\n",
    "    userid = useridprofile.loc[useridprofile['index'] == i, '#id'].iloc[0]\n",
    "    onlytrack_ui = df2.loc[df2['userid'] == userid, ['userid','track-name', 'rating_normalized']]\n",
    "    onlytrack_ui['index'] = range(len(onlytrack_ui))\n",
    "    nb_track = len(onlytrack_ui)\n",
    "\n",
    "    mu = matrix_utilidad(i)\n",
    "    sim = similitudes(i, mu)\n",
    "\n",
    "    best_pred_value = 0\n",
    "    best_pred_id = 0\n",
    "\n",
    "    for j in range(nb_track):\n",
    "\n",
    "        predj = pred(i, j, mu, sim)\n",
    "\n",
    "        if predj > best_pred_value:\n",
    "            best_pred_value = predj\n",
    "            best_pred_id = j\n",
    "\n",
    "    best_pred_track = onlytrack_ui.loc[onlytrack_ui['index'] == best_pred_id]\n",
    "    print(\"Final best prediction is the track n°\" + str(best_pred_id) + \" : \" + str(best_pred_track['track-name']))\n",
    "\n",
    "    real_best_item = onlytrack_ui.sort_values(by='rating_normalized',ascending=False).iloc[j]\n",
    "    print(\"Real best prediction is the track n°\" + str(real_best_item['index']) + \" : \" + str(real_best_item['track-name']))\n",
    "    \n",
    "    error = 100 * (5 - real_best_item['rating_normalized']) / 5\n",
    "    print(\"\\n\\nThe error of prediction is : \" + str(round(error, 2)) + \" %\")\n",
    "    \n",
    "    return error\n"
   ]
  },
  {
   "cell_type": "code",
   "execution_count": 199,
   "id": "8fb413da",
   "metadata": {},
   "outputs": [
    {
     "name": "stdout",
     "output_type": "stream",
     "text": [
      "UserId : user_000001\n",
      "Tenemos 40 usuarios vecinos\n",
      "Tenemos 3092 tracks\n",
      "Final best prediction is the track n°1218 : 1218    Intro\n",
      "Name: track-name, dtype: object\n",
      "Real best prediction is the track n°3091 : Ｔouch - A Mountain Of One Peyote Remix\n",
      "\n",
      "\n",
      "The error of prediction is : 78.86 %\n"
     ]
    },
    {
     "data": {
      "text/plain": [
       "78.85714285714286"
      ]
     },
     "execution_count": 199,
     "metadata": {},
     "output_type": "execute_result"
    }
   ],
   "source": [
    "compareBestItem(0, prediccion)"
   ]
  },
  {
   "cell_type": "code",
   "execution_count": 724,
   "id": "9c3cb229",
   "metadata": {},
   "outputs": [
    {
     "name": "stdout",
     "output_type": "stream",
     "text": [
      "UserId : user_000001\n",
      "Tenemos 40 usuarios vecinos\n",
      "Tenemos 3092 tracks\n",
      "[0.23442635853842195, 0.1781162646905488, 0.22891378251557773, 0.1348245354201449, 0.22628779635810156, 0.08175935678932303, 0.07043049035789263, 0.13217364826146577, 0.0851459263718719, 0.177948398792549, 0.2818870379917326, 0.1812023414805475, 0.04449516475942248, 0.1182094935426211, 0.2439769935078927, 0.2427626028085268, 0.12115201210097612, 0.18398732968379095, 0.16690074893742068, 0.18099544503660536, 0.14779945801933303, 0.1310384209635869, 0.27340939620371263, 0.236249617000209, 0.1993910180483349, 0.08056247552462212, 0.17907011973930378, 0.26868743296566044, 0.21851858850521735, 0.3189456085772271, 0.12542395767763317, 0.2177813127092301, 0.18119491985149067, 0.1533500590694796, 0.15334194853525676, 0.21932477439977185, 0.12233559848951868, 0.10685034379113664, 0.16467383417351825, 0.19386445534856675]\n"
     ]
    }
   ],
   "source": [
    "mu = matrix_utilidad(0)\n",
    "sim = similitudes(0, mu)\n",
    "print(sim)"
   ]
  },
  {
   "cell_type": "markdown",
   "id": "840f33ca",
   "metadata": {},
   "source": [
    "## Nueva estrategia de seleccion de vecinos por umbral de similitud y por numero de vecinos"
   ]
  },
  {
   "cell_type": "code",
   "execution_count": 1192,
   "id": "16497f07",
   "metadata": {},
   "outputs": [],
   "source": [
    "import copy as c\n",
    "\n",
    "def mejor_prediccion1(i,j, mu, sim, index_model):\n",
    "    '''Return the prediction of user i and item j with selection of neighbour'''\n",
    "    \n",
    "    #Neighborhood selection\n",
    "    #Max(N) = 10 para modelo usuario-usuario\n",
    "    #Max(N) = 1000 para modelo item-item\n",
    "    \n",
    "    N = 0\n",
    "    \n",
    "    if(index_model == 0):\n",
    "        N = min(len(sim), 10)\n",
    "    else:\n",
    "        N = min(len(sim), 1000)\n",
    "    \n",
    "    #better_sim = c.deepcopy(sim)\n",
    "    better_sim = [list(s) for s in sim]\n",
    "    better_sim.sort()\n",
    "    better_sim = better_sim[::-1]\n",
    "    better_sim = better_sim[:N]\n",
    "\n",
    "    pred = 0\n",
    "    \n",
    "    #Calculate finale prediction with better_sim\n",
    "    if(N != 0):\n",
    "        pred = prediccion(i, j, mu, better_sim, index_model)  \n",
    "    else:\n",
    "        pred = prediccion(i, j, mu, sim, index_model)\n",
    "    \n",
    "    return pred"
   ]
  },
  {
   "cell_type": "code",
   "execution_count": 1193,
   "id": "d2f342ab",
   "metadata": {},
   "outputs": [
    {
     "name": "stdout",
     "output_type": "stream",
     "text": [
      "UserId : user_000001\n",
      "Tenemos 40 usuarios vecinos\n",
      "Tenemos 3092 tracks\n",
      "La predicción para el usuario 0 y para el item 0 es: 1.362359377057807\n",
      "El real rating of item 0 por el usuario 0 is 1.8\n",
      "La predicción para el usuario 0 y para el item 1 es: 1.3010072554006509\n",
      "El real rating of item 1 por el usuario 0 is 1.1714285714285713\n",
      "La predicción para el usuario 0 y para el item 2 es: 1.3010072554006509\n",
      "El real rating of item 2 por el usuario 0 is 1.0571428571428572\n",
      "UserId : user_000002\n",
      "Tenemos 40 usuarios vecinos\n",
      "Tenemos 8129 tracks\n",
      "La predicción para el usuario 1 y para el item 0 es: 1.1955485424439993\n",
      "El real rating of item 0 por el usuario 1 is 1.0575539568345325\n",
      "La predicción para el usuario 1 y para el item 1 es: 1.1780311187169585\n",
      "El real rating of item 1 por el usuario 1 is 1.0575539568345325\n",
      "La predicción para el usuario 1 y para el item 2 es: 1.1780311187169585\n",
      "El real rating of item 2 por el usuario 1 is 1.0575539568345325\n",
      "UserId : user_000003\n",
      "Tenemos 40 usuarios vecinos\n",
      "Tenemos 4565 tracks\n",
      "La predicción para el usuario 2 y para el item 0 es: 1.386231437355383\n",
      "El real rating of item 0 por el usuario 2 is 1.0851063829787235\n",
      "La predicción para el usuario 2 y para el item 1 es: 1.3431463642342387\n",
      "El real rating of item 1 por el usuario 2 is 1.2553191489361701\n",
      "La predicción para el usuario 2 y para el item 2 es: 1.3431463642342387\n",
      "El real rating of item 2 por el usuario 2 is 1.0851063829787235\n",
      "\n",
      "Tiempo de ejecucion : 46.973653078079224\n",
      "Modelo collaborativo usuario-usuario\n",
      "El function de costo o la cualidad de esos predicciones es de : 0.02671313020564032\n"
     ]
    }
   ],
   "source": [
    "#Test value of cost function with better similitudes\n",
    "tiempo2, funcion_costo2 = funcion_costo(3, 3, mejor_prediccion1, similitudes, 0)"
   ]
  },
  {
   "cell_type": "code",
   "execution_count": null,
   "id": "f7ad2217",
   "metadata": {},
   "outputs": [],
   "source": [
    "compareBestItem(0, mejor_prediccion1)"
   ]
  },
  {
   "cell_type": "code",
   "execution_count": 1194,
   "id": "295c97a9",
   "metadata": {},
   "outputs": [],
   "source": [
    "def mejor_prediccion2(i, j, mu, sim, index_model):\n",
    "    '''Like better_prediccion1 but with a strategy of ponderation of McLaughlin'''\n",
    "\n",
    "    #Use make case amplification of very similar neighbors\n",
    "    #The threshold to select very similar neighbors is when neighbors have more than 150 items in common\n",
    "    #Alpha = 150 encontra empiricamente para modelo usuario-usuario\n",
    "    alpha = 0\n",
    "    \n",
    "    if(index_model == 0):\n",
    "        alpha = 150\n",
    "    else:\n",
    "        alpha = 3\n",
    "    \n",
    "    mejor_sim = []\n",
    "        \n",
    "    nb_user = len(mu)\n",
    "    nb_item = len(mu[0])\n",
    "    \n",
    "    sim_copy = [list(s) for s in sim]\n",
    "\n",
    "    for k in range(1, nb_user):\n",
    "        \n",
    "        nb_common_item = 0\n",
    "        for l in range(nb_item):\n",
    "            if(mu[k][l] != 0.):\n",
    "                nb_common_item += 1\n",
    "                \n",
    "        mejor_sim_value = max(nb_common_item, alpha)*sim[k-1][0] / alpha\n",
    "        mejor_sim.append([mejor_sim_value, sim[k-1][1]])\n",
    "    \n",
    "    pred =  mejor_prediccion1(i, j, mu, mejor_sim, index_model)\n",
    "\n",
    "    \n",
    "    return pred"
   ]
  },
  {
   "cell_type": "code",
   "execution_count": 1195,
   "id": "aab245dd",
   "metadata": {},
   "outputs": [
    {
     "name": "stdout",
     "output_type": "stream",
     "text": [
      "UserId : user_000001\n",
      "Tenemos 40 usuarios vecinos\n",
      "Tenemos 3092 tracks\n",
      "La predicción para el usuario 0 y para el item 0 es: 1.4092976399234158\n",
      "El real rating of item 0 por el usuario 0 is 1.8\n",
      "La predicción para el usuario 0 y para el item 1 es: 1.2969293068105614\n",
      "El real rating of item 1 por el usuario 0 is 1.1714285714285713\n",
      "La predicción para el usuario 0 y para el item 2 es: 1.2969293068105614\n",
      "El real rating of item 2 por el usuario 0 is 1.0571428571428572\n",
      "UserId : user_000002\n",
      "Tenemos 40 usuarios vecinos\n",
      "Tenemos 8129 tracks\n",
      "La predicción para el usuario 1 y para el item 0 es: 1.1268379469049918\n",
      "El real rating of item 0 por el usuario 1 is 1.0575539568345325\n",
      "La predicción para el usuario 1 y para el item 1 es: 1.0053359744950305\n",
      "El real rating of item 1 por el usuario 1 is 1.0575539568345325\n",
      "La predicción para el usuario 1 y para el item 2 es: 1.0053359744950305\n",
      "El real rating of item 2 por el usuario 1 is 1.0575539568345325\n",
      "UserId : user_000003\n",
      "Tenemos 40 usuarios vecinos\n",
      "Tenemos 4565 tracks\n",
      "La predicción para el usuario 2 y para el item 0 es: 1.4885283934860147\n",
      "El real rating of item 0 por el usuario 2 is 1.0851063829787235\n",
      "La predicción para el usuario 2 y para el item 1 es: 1.277145621732139\n",
      "El real rating of item 1 por el usuario 2 is 1.2553191489361701\n",
      "La predicción para el usuario 2 y para el item 2 es: 1.277145621732139\n",
      "El real rating of item 2 por el usuario 2 is 1.0851063829787235\n",
      "\n",
      "Tiempo de ejecucion : 49.33645009994507\n",
      "Modelo collaborativo usuario-usuario\n",
      "El function de costo o la cualidad de esos predicciones es de : 0.024236377751768096\n"
     ]
    }
   ],
   "source": [
    "#Test value of cost function with ponderation of McLaughlin\n",
    "tiempo3, funcion_costo3 = funcion_costo(3, 3, mejor_prediccion2, similitudes, 0)"
   ]
  },
  {
   "cell_type": "code",
   "execution_count": 1021,
   "id": "b08a1433",
   "metadata": {},
   "outputs": [],
   "source": [
    "mu_test = matrix_utilidad(0)\n",
    "sim_test = similitudes(0, mu)"
   ]
  },
  {
   "cell_type": "code",
   "execution_count": 1022,
   "id": "7386f36c",
   "metadata": {},
   "outputs": [],
   "source": [
    "def test(num_item):\n",
    "    \n",
    "    test0 = prediccion(0, num_item, mu_test, sim_test, 0)\n",
    "    print(\"Prediccion : \" + str(test0))\n",
    "    test1 = mejor_prediccion1(0, num_item, mu, sim_test, 0)\n",
    "    print(\"Mejor Prediccion 1 : \" + str(test1))\n",
    "    test2 = mejor_prediccion2(0, num_item, mu, sim_test, 0)\n",
    "    print(\"Mejor Prediccion 2 : \" + str(test2))\n",
    "    test3 = mu[0][num_item]\n",
    "    print(\"Real Value : \" + str(test3))\n",
    "    return"
   ]
  },
  {
   "cell_type": "code",
   "execution_count": 1142,
   "id": "511ada3b",
   "metadata": {},
   "outputs": [
    {
     "name": "stdout",
     "output_type": "stream",
     "text": [
      "Prediccion : 2.7431625503837016\n",
      "Mejor Prediccion 1 : 1.3667711605573352\n",
      "Mejor Prediccion 2 : 1.413659756306291\n",
      "Real Value : 1.8\n",
      "Prediccion : 1.184708729032642\n",
      "Mejor Prediccion 1 : 1.3033192021522766\n",
      "Mejor Prediccion 2 : 1.299219198688113\n",
      "Real Value : 1.1714285714285713\n",
      "Prediccion : 0.998570115185475\n",
      "Mejor Prediccion 1 : 1.2957406268864617\n",
      "Mejor Prediccion 2 : 1.2917402794831092\n",
      "Real Value : 1.0571428571428572\n",
      "Prediccion : 1.3256847546743604\n",
      "Mejor Prediccion 1 : 1.309058996808094\n",
      "Mejor Prediccion 2 : 1.305487330445487\n",
      "Real Value : 1.0571428571428572\n",
      "Prediccion : 1.378989289895357\n",
      "Mejor Prediccion 1 : 1.3112292742364693\n",
      "Mejor Prediccion 2 : 1.3108067787451991\n",
      "Real Value : 1.0571428571428572\n"
     ]
    }
   ],
   "source": [
    "for i in range(5):\n",
    "    test(i)"
   ]
  },
  {
   "cell_type": "code",
   "execution_count": 1025,
   "id": "f99eb3be",
   "metadata": {},
   "outputs": [
    {
     "data": {
      "image/png": "[encoded data removed]",
      "text/plain": [
       "<Figure size 720x720 with 1 Axes>"
      ]
     },
     "metadata": {
      "needs_background": "light"
     },
     "output_type": "display_data"
    }
   ],
   "source": [
    "#Visual representation of the change of similarities made by mejor_prediccion2\n",
    "\n",
    "import matplotlib.pyplot as plt\n",
    "\n",
    "#Alpha = 150 encontra empiricamente\n",
    "alpha = 150\n",
    "\n",
    "x = np.arange(len(sim))\n",
    "y1 = []\n",
    "y2 = []\n",
    "  \n",
    "nb_user = len(mu)\n",
    "nb_item = len(mu[0])\n",
    "    \n",
    "for i in range(1, nb_user):\n",
    "        \n",
    "    nb_common_item = 0\n",
    "    for j in range(nb_item):\n",
    "        if(mu[i][j] != 0):\n",
    "            nb_common_item += 1\n",
    "                \n",
    "    y1.append(sim[i-1][0])\n",
    "    \n",
    "    mejor_sim_value = max(nb_common_item, alpha)*sim[i-1][0] / alpha\n",
    "    y2.append(mejor_sim_value)\n",
    "\n",
    "fig, axe = plt.subplots(constrained_layout = True,figsize=(10,10))\n",
    "\n",
    "plt.plot(x, y1, 'b') #BLUE COLOR FOR NORMAL SIMILARITIES\n",
    "plt.plot(x, y2, 'r') #RED COLOR FOR AFTER APPLYING PONDERATION OF MACLAUGHIN\n",
    "\n",
    "axe.set_ylabel(\"Similarity\")\n",
    "fig.suptitle(\"Evolution of the distribution of similarities\", fontsize=16);\n",
    "\n",
    "plt.show()\n",
    "\n"
   ]
  },
  {
   "cell_type": "markdown",
   "id": "177d2973",
   "metadata": {},
   "source": [
    "### Visual Comparison between model with and without selection of neighbour and similiraties amplification"
   ]
  },
  {
   "cell_type": "code",
   "execution_count": 1143,
   "id": "d544d866",
   "metadata": {},
   "outputs": [],
   "source": [
    "#pip install --upgrade matplotlib\n",
    "#import matplotlib.pyplot as plt\n",
    "\n",
    "def muestra(a, b, c):\n",
    "    '''muestra un gráfico de barras de los valores de la función de costo en cada paso de la mejora de la estrategia de predicción'''\n",
    "    \n",
    "    cualidad_analyse = {\n",
    "        'Standart Model': (a),\n",
    "        'Neighbour Selection': (b), \n",
    "        'Neighbour Selection + Similarity Amplification': (c)\n",
    "    }\n",
    "\n",
    "    cases = np.array([a, b, c])\n",
    "\n",
    "    x = np.arange(len(cases))\n",
    "    widthBar = 1\n",
    "    multiplier = 0\n",
    "\n",
    "    fig, axe = plt.subplots(constrained_layout = True,figsize=(10,10))\n",
    "    \n",
    "\n",
    "    #Pantalla gráfica para comparar el rendimiento y la cualidad\n",
    "\n",
    "    for sim, measurement in cualidad_analyse.items():\n",
    "        offset = widthBar * multiplier\n",
    "        bar1 = axe.bar(offset, height = measurement, width = widthBar, label=sim)\n",
    "        multiplier += 1\n",
    "\n",
    "\n",
    "    axe.set_ylabel(\"Function de costo\")\n",
    "    axe.set_xticks(x)\n",
    "    axe.set_xticklabels(cases)\n",
    "    axe.legend(loc='upper left')\n",
    "    fig.suptitle(\"Analisis de la cualidad de similitudes cosenos para un modelo collaborativo usuario-usuario\", fontsize=16);\n",
    "                \n",
    "    plt.show()\n",
    "    return"
   ]
  },
  {
   "cell_type": "code",
   "execution_count": 1196,
   "id": "7a1b12ed",
   "metadata": {},
   "outputs": [
    {
     "data": {
      "image/png": "[encoded data removed]",
      "text/plain": [
       "<Figure size 720x720 with 1 Axes>"
      ]
     },
     "metadata": {
      "needs_background": "light"
     },
     "output_type": "display_data"
    }
   ],
   "source": [
    "#print(\"PREDICCION NORMALE :\")\n",
    "#tiempo1, funcion_costo1 = funcion_costo(3, 3, prediccion, similitudes, 0)\n",
    "#print(\"MEJOR PREDICCION 1 :\")\n",
    "#tiempo2, funcion_costo2 = funcion_costo(3, 3, mejor_prediccion1, similitudes, 0)\n",
    "#print(\"MEJOR PREDICCION 2 :\")\n",
    "#tiempo3, funcion_costo3 = funcion_costo(3, 3, mejor_prediccion2, similitudes, 0)\n",
    "\n",
    "muestra(funcion_costo1, funcion_costo2, funcion_costo3)"
   ]
  },
  {
   "cell_type": "markdown",
   "id": "b54b2c56",
   "metadata": {},
   "source": [
    "## Lo mismo para un modelo colaborativo item-item"
   ]
  },
  {
   "cell_type": "code",
   "execution_count": 1187,
   "id": "4329d800",
   "metadata": {},
   "outputs": [],
   "source": [
    "#mu2 = Matrix de Utilidad segun el item i\n",
    "\n",
    "def matrix_utilidad2(i):\n",
    "    '''Return the matrix of utility of the user i'''\n",
    "    \n",
    "    #Create dataframe of only tracks\n",
    "    track_df = pd.DataFrame(df2['track-name'].drop_duplicates(keep = 'first', inplace = False), columns=['track-name'])\n",
    "    track_df['index'] = range(len(track_df))\n",
    "    \n",
    "    #Take the trackId name of the item i\n",
    "    trackname = track_df.loc[track_df['index'] == i, 'track-name'].iloc[0]\n",
    "    print(\"TrackID : \" + trackname)\n",
    "    \n",
    "    #Select the users associated with item i\n",
    "    users_ti = df2.loc[df2['track-name'] == trackname, ['track-name','userid']]\n",
    "    users_ti['index'] = range(len(users_ti))\n",
    "    nb_users = len(users_ti)\n",
    "    \n",
    "    #Select the neighbour of item i\n",
    "    neighbour_ti = df2[df2['userid'].isin(users_ti['userid'])]\n",
    "    nb_neighbour = len(neighbour_ti['track-name'].drop_duplicates(keep = 'first', inplace = False))\n",
    "    #neighbour_ti['index'] = range(len(neighbour_ti))\n",
    "    \n",
    "    track_df = track_df.loc[track_df['track-name'].isin(neighbour_ti['track-name'])]\n",
    "    track_df['index'] = range(len(track_df))\n",
    "    \n",
    "    print(\"Tenemos \" + str(nb_neighbour - 1) + \" tracks vecinos\")\n",
    "    print(\"Tenemos \" + str(nb_users) + \" users\")\n",
    "\n",
    "    #Create the matrix of utility\n",
    "    mu2 = np.zeros((nb_neighbour, nb_users))\n",
    "    \n",
    "    track_i_row = []\n",
    "    \n",
    "\n",
    "    for k in neighbour_ti.index:\n",
    "        \n",
    "        #Get itemid and user of the k-row of neighbour_ui\n",
    "        useridk = neighbour_ti.loc[k, 'userid']\n",
    "        tracknamek = neighbour_ti.loc[k, 'track-name']\n",
    "        \n",
    "        #print(\"TEST X\")\n",
    "        #print(tracknamek)\n",
    "        \n",
    "        #Get index of user and track associated with this userid and track\n",
    "        num_track = track_df.loc[track_df['track-name'] == tracknamek, 'index'].iloc[0]\n",
    "        num_user = users_ti.loc[users_ti['userid'] == useridk, 'index'].iloc[0]\n",
    "        \n",
    "        \n",
    "        #Add the value of rating normalized in the matrix of utility\n",
    "        if (num_track < i):\n",
    "            mu2[num_track+1][num_user] = neighbour_ti.loc[k, 'rating_normalized']\n",
    "            \n",
    "        elif (num_track > i):\n",
    "            if(num_track == 39932):\n",
    "                print(\"STOP\")\n",
    "            mu2[num_track][num_user] = neighbour_ti.loc[k, 'rating_normalized']\n",
    "            \n",
    "        else : \n",
    "            track_i_row.append(neighbour_ti.loc[k, 'rating_normalized'])\n",
    "            \n",
    "    #The item i is always the first row of the matrix of utility\n",
    "    mu2[0] = np.array(track_i_row)\n",
    "    \n",
    "    return np.array(mu2)"
   ]
  },
  {
   "cell_type": "code",
   "execution_count": 1159,
   "id": "1806ba20",
   "metadata": {},
   "outputs": [
    {
     "name": "stdout",
     "output_type": "stream",
     "text": [
      "TrackID : (All I Wanted Was To Make You) Feel Good\n",
      "Tenemos 7328 tracks vecinos\n",
      "Tenemos 2 users\n"
     ]
    },
    {
     "data": {
      "text/plain": [
       "array([[1.17142857, 1.15238095],\n",
       "       [1.8       , 0.        ],\n",
       "       [1.05714286, 0.        ],\n",
       "       ...,\n",
       "       [0.        , 1.03809524],\n",
       "       [0.        , 2.1047619 ],\n",
       "       [0.        , 1.01904762]])"
      ]
     },
     "execution_count": 1159,
     "metadata": {},
     "output_type": "execute_result"
    }
   ],
   "source": [
    "matrix_utilidad2(1)"
   ]
  },
  {
   "cell_type": "code",
   "execution_count": 1197,
   "id": "854d6fd9",
   "metadata": {},
   "outputs": [
    {
     "name": "stdout",
     "output_type": "stream",
     "text": [
      "TrackID : '84 Pontiac Dream\n",
      "Tenemos 39931 tracks vecinos\n",
      "Tenemos 5 users\n",
      "La predicción para el usuario 0 y para el item 0 es: -3127.149745997544\n",
      "El real rating of item 0 por el usuario 0 is 1.8\n",
      "La predicción para el usuario 0 y para el item 1 es: 3567.249346824167\n",
      "El real rating of item 1 por el usuario 0 is 3.347107438016529\n",
      "La predicción para el usuario 0 y para el item 2 es: -1321.1628983605037\n",
      "El real rating of item 2 por el usuario 0 is 1.0597014925373134\n",
      "La predicción para el usuario 0 y para el item 3 es: -2965.738562712214\n",
      "El real rating of item 3 por el usuario 0 is 1.342857142857143\n",
      "La predicción para el usuario 0 y para el item 4 es: 3856.317043557444\n",
      "El real rating of item 4 por el usuario 0 is 1.9655172413793103\n",
      "\n",
      "Tiempo de ejecucion : 256.14602160453796\n",
      "Modelo collaborativo item-item\n",
      "El function de costo o la cualidad de esos predicciones es de : 4789959.6128906\n"
     ]
    }
   ],
   "source": [
    "tiempo4, funcion_costo4 = funcion_costo(1, 5, prediccion, similitudes, 1)"
   ]
  },
  {
   "cell_type": "code",
   "execution_count": 1198,
   "id": "f8351a90",
   "metadata": {
    "scrolled": true
   },
   "outputs": [
    {
     "name": "stdout",
     "output_type": "stream",
     "text": [
      "TrackID : '84 Pontiac Dream\n",
      "Tenemos 39931 tracks vecinos\n",
      "Tenemos 5 users\n",
      "La predicción para el usuario 0 y para el item 0 es: 1.6857514543877277\n",
      "El real rating of item 0 por el usuario 0 is 1.8\n",
      "La predicción para el usuario 0 y para el item 1 es: 2.2006297463504874\n",
      "El real rating of item 1 por el usuario 0 is 3.347107438016529\n",
      "La predicción para el usuario 0 y para el item 2 es: 1.7790123743188326\n",
      "El real rating of item 2 por el usuario 0 is 1.0597014925373134\n",
      "La predicción para el usuario 0 y para el item 3 es: 1.7315491794447742\n",
      "El real rating of item 3 por el usuario 0 is 1.342857142857143\n",
      "La predicción para el usuario 0 y para el item 4 es: 2.1182405602884753\n",
      "El real rating of item 4 por el usuario 0 is 1.9655172413793103\n",
      "\n",
      "Tiempo de ejecucion : 238.95900988578796\n",
      "Modelo collaborativo item-item\n",
      "El function de costo o la cualidad de esos predicciones es de : 0.20192778837569927\n"
     ]
    }
   ],
   "source": [
    "#Parametrize N = 1000 for the number of neighbour considered\n",
    "tiempo5, funcion_costo5 = funcion_costo(1, 5, mejor_prediccion1, similitudes, 1)"
   ]
  },
  {
   "cell_type": "code",
   "execution_count": 1199,
   "id": "74b294b7",
   "metadata": {},
   "outputs": [
    {
     "name": "stdout",
     "output_type": "stream",
     "text": [
      "TrackID : '84 Pontiac Dream\n",
      "Tenemos 39931 tracks vecinos\n",
      "Tenemos 5 users\n",
      "La predicción para el usuario 0 y para el item 0 es: 1.6653011506615039\n",
      "El real rating of item 0 por el usuario 0 is 1.8\n",
      "La predicción para el usuario 0 y para el item 1 es: 2.189998336384574\n",
      "El real rating of item 1 por el usuario 0 is 3.347107438016529\n",
      "La predicción para el usuario 0 y para el item 2 es: 1.7814072919038202\n",
      "El real rating of item 2 por el usuario 0 is 1.0597014925373134\n",
      "La predicción para el usuario 0 y para el item 3 es: 1.7490369316625787\n",
      "El real rating of item 3 por el usuario 0 is 1.342857142857143\n",
      "La predicción para el usuario 0 y para el item 4 es: 2.129439604177821\n",
      "El real rating of item 4 por el usuario 0 is 1.9655172413793103\n",
      "\n",
      "Tiempo de ejecucion : 241.40109515190125\n",
      "Modelo collaborativo item-item\n",
      "El function de costo o la cualidad de esos predicciones es de : 0.20697570757913483\n"
     ]
    }
   ],
   "source": [
    "#Parametrize alpha = 3 for the number of user in common\n",
    "tiempo6, funcion_costo6 = funcion_costo(1, 5, mejor_prediccion2, similitudes, 1)"
   ]
  },
  {
   "cell_type": "code",
   "execution_count": 1200,
   "id": "05170933",
   "metadata": {},
   "outputs": [
    {
     "data": {
      "image/png": "[encoded data removed]",
      "text/plain": [
       "<Figure size 720x720 with 1 Axes>"
      ]
     },
     "metadata": {
      "needs_background": "light"
     },
     "output_type": "display_data"
    }
   ],
   "source": [
    "muestra(funcion_costo4, funcion_costo5, funcion_costo6)"
   ]
  },
  {
   "cell_type": "markdown",
   "id": "3621221d",
   "metadata": {},
   "source": [
    "### Analysis Modelo ITEM ITEM\n",
    "#### Podemos ver que cuando el tamaño de los vecinos es mas importante, la valor del funcion de costo (Prediction normale) sea mas importante  Entonces, es muy importante de poner filtros como vecinos selecion o similaridad amplificacion para mejorar este funcion de costo, pues nuestro sistema de recommendacion"
   ]
  },
  {
   "cell_type": "code",
   "execution_count": null,
   "id": "4ee58aa9",
   "metadata": {},
   "outputs": [],
   "source": []
  }
 ],
 "metadata": {
  "kernelspec": {
   "display_name": "Python 3",
   "language": "python",
   "name": "python3"
  }
 },
 "nbformat": 4,
 "nbformat_minor": 5
}
